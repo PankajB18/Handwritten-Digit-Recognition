{
 "cells": [
  {
   "cell_type": "markdown",
   "id": "474013ba",
   "metadata": {},
   "source": [
    "# Handwritten Digit Recognition using Python"
   ]
  },
  {
   "cell_type": "markdown",
   "id": "d233fad9",
   "metadata": {},
   "source": [
    "# Import the libraries and load the dataset"
   ]
  },
  {
   "cell_type": "code",
   "execution_count": 2,
   "id": "bb12844d",
   "metadata": {},
   "outputs": [
    {
     "name": "stdout",
     "output_type": "stream",
     "text": [
      "(60000, 28, 28) (60000,)\n"
     ]
    }
   ],
   "source": [
    "import keras\n",
    "from keras.datasets import mnist\n",
    "from keras.models import Sequential\n",
    "from keras.layers import Dense, Dropout, Flatten\n",
    "from keras.layers import Conv2D, MaxPooling2D\n",
    "from keras import backend as K\n",
    "\n",
    "# the data, split between train and test sets\n",
    "(x_train, y_train), (x_test, y_test) = mnist.load_data()\n",
    "\n",
    "print(x_train.shape, y_train.shape)"
   ]
  },
  {
   "cell_type": "markdown",
   "id": "627cd065",
   "metadata": {},
   "source": [
    "# Preprocess the data"
   ]
  },
  {
   "cell_type": "code",
   "execution_count": 4,
   "id": "3d4217d8",
   "metadata": {},
   "outputs": [
    {
     "name": "stdout",
     "output_type": "stream",
     "text": [
      "x_train shape: (60000, 28, 28, 1)\n",
      "60000 train samples\n",
      "10000 test samples\n"
     ]
    }
   ],
   "source": [
    "x_train = x_train.reshape(x_train.shape[0], 28, 28, 1)\n",
    "x_test = x_test.reshape(x_test.shape[0], 28, 28, 1)\n",
    "input_shape = (28, 28, 1)\n",
    "\n",
    "# convert class vectors to binary class matrices\n",
    "y_train = keras.utils.to_categorical(y_train)\n",
    "y_test = keras.utils.to_categorical(y_test)\n",
    "\n",
    "x_train = x_train.astype('float32')\n",
    "x_test = x_test.astype('float32')\n",
    "x_train /= 255\n",
    "x_test /= 255\n",
    "print('x_train shape:', x_train.shape)\n",
    "print(x_train.shape[0], 'train samples')\n",
    "print(x_test.shape[0], 'test samples')"
   ]
  },
  {
   "cell_type": "markdown",
   "id": "8a018b92",
   "metadata": {},
   "source": [
    "# Create the Model"
   ]
  },
  {
   "cell_type": "code",
   "execution_count": 5,
   "id": "285f1c71",
   "metadata": {},
   "outputs": [],
   "source": [
    "batch_size = 128\n",
    "num_classes = 10\n",
    "epochs = 10\n",
    "\n",
    "model = Sequential()\n",
    "model.add(Conv2D(32, kernel_size=(3, 3),activation='relu',input_shape=input_shape))\n",
    "model.add(Conv2D(64, (3, 3), activation='relu'))\n",
    "model.add(MaxPooling2D(pool_size=(2, 2)))\n",
    "model.add(Dropout(0.25))\n",
    "model.add(Flatten())\n",
    "model.add(Dense(256, activation='relu'))\n",
    "model.add(Dropout(0.5))\n",
    "model.add(Dense(num_classes, activation='softmax'))\n",
    "\n",
    "model.compile(loss=keras.losses.categorical_crossentropy,optimizer=keras.optimizers.Adadelta(),metrics=['accuracy'])"
   ]
  },
  {
   "cell_type": "markdown",
   "id": "afc9f482",
   "metadata": {},
   "source": [
    "# Train the model"
   ]
  },
  {
   "cell_type": "code",
   "execution_count": 6,
   "id": "115db51b",
   "metadata": {},
   "outputs": [
    {
     "name": "stdout",
     "output_type": "stream",
     "text": [
      "Epoch 1/10\n",
      "469/469 [==============================] - 134s 279ms/step - loss: 2.2608 - accuracy: 0.1652 - val_loss: 2.1833 - val_accuracy: 0.4514\n",
      "Epoch 2/10\n",
      "469/469 [==============================] - 126s 268ms/step - loss: 2.1409 - accuracy: 0.3403 - val_loss: 2.0373 - val_accuracy: 0.6663\n",
      "Epoch 3/10\n",
      "469/469 [==============================] - 126s 268ms/step - loss: 1.9880 - accuracy: 0.4845 - val_loss: 1.8437 - val_accuracy: 0.7367\n",
      "Epoch 4/10\n",
      "469/469 [==============================] - 125s 267ms/step - loss: 1.7914 - accuracy: 0.5745 - val_loss: 1.6024 - val_accuracy: 0.7747\n",
      "Epoch 5/10\n",
      "469/469 [==============================] - 147s 314ms/step - loss: 1.5654 - accuracy: 0.6325 - val_loss: 1.3430 - val_accuracy: 0.7949\n",
      "Epoch 6/10\n",
      "469/469 [==============================] - 147s 313ms/step - loss: 1.3487 - accuracy: 0.6668 - val_loss: 1.1094 - val_accuracy: 0.8138\n",
      "Epoch 7/10\n",
      "469/469 [==============================] - 155s 331ms/step - loss: 1.1638 - accuracy: 0.6949 - val_loss: 0.9265 - val_accuracy: 0.8276\n",
      "Epoch 8/10\n",
      "469/469 [==============================] - 144s 306ms/step - loss: 1.0251 - accuracy: 0.7181 - val_loss: 0.7933 - val_accuracy: 0.8384\n",
      "Epoch 9/10\n",
      "469/469 [==============================] - 130s 276ms/step - loss: 0.9208 - accuracy: 0.7384 - val_loss: 0.6966 - val_accuracy: 0.8478\n",
      "Epoch 10/10\n",
      "469/469 [==============================] - 129s 275ms/step - loss: 0.8421 - accuracy: 0.7564 - val_loss: 0.6261 - val_accuracy: 0.8570\n",
      "The model has successfully trained\n",
      "Saving the model as mnist.h5\n"
     ]
    }
   ],
   "source": [
    "hist = model.fit(x_train, y_train,batch_size=batch_size,epochs=epochs,verbose=1,validation_data=(x_test, y_test))\n",
    "print(\"The model has successfully trained\")\n",
    "\n",
    "model.save('mnist.h5')\n",
    "print(\"Saving the model as mnist.h5\")"
   ]
  },
  {
   "cell_type": "markdown",
   "id": "a95f808d",
   "metadata": {},
   "source": [
    "# Evaluate the model"
   ]
  },
  {
   "cell_type": "code",
   "execution_count": 7,
   "id": "08e668b4",
   "metadata": {},
   "outputs": [
    {
     "name": "stdout",
     "output_type": "stream",
     "text": [
      "Test loss: 0.6260712146759033\n",
      "Test accuracy: 0.8569999933242798\n"
     ]
    }
   ],
   "source": [
    "score = model.evaluate(x_test, y_test, verbose=0)\n",
    "print('Test loss:', score[0])\n",
    "print('Test accuracy:', score[1])"
   ]
  },
  {
   "cell_type": "code",
   "execution_count": null,
   "id": "ffc83abd",
   "metadata": {},
   "outputs": [],
   "source": []
  }
 ],
 "metadata": {
  "kernelspec": {
   "display_name": "Python 3 (ipykernel)",
   "language": "python",
   "name": "python3"
  },
  "language_info": {
   "codemirror_mode": {
    "name": "ipython",
    "version": 3
   },
   "file_extension": ".py",
   "mimetype": "text/x-python",
   "name": "python",
   "nbconvert_exporter": "python",
   "pygments_lexer": "ipython3",
   "version": "3.9.12"
  }
 },
 "nbformat": 4,
 "nbformat_minor": 5
}
